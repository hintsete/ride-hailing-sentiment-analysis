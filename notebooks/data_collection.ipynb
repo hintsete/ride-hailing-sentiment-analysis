{
 "cells": [
  {
   "cell_type": "code",
   "execution_count": null,
   "id": "41ca6714",
   "metadata": {},
   "outputs": [
    {
     "ename": "",
     "evalue": "",
     "output_type": "error",
     "traceback": [
      "\u001b[1;31mRunning cells with 'venv (Python 3.13.2)' requires the ipykernel package.\n",
      "\u001b[1;31mInstall 'ipykernel' into the Python environment. \n",
      "\u001b[1;31mCommand: 'c:/Users/hints/ride-hailing-sentiment-analysis/venv/Scripts/python.exe -m pip install ipykernel -U --force-reinstall'"
     ]
    }
   ],
   "source": [
    "{\n",
    " \"cells\": [\n",
    "  {\n",
    "   \"cell_type\": \"markdown\",\n",
    "   \"metadata\": {},\n",
    "   \"source\": [\n",
    "    \"# Data Collection Exploration\\n\",\n",
    "    \"Load and inspect scraped reviews for RIDE and Feres.\"\n",
    "   ]\n",
    "  },\n",
    "  {\n",
    "   \"cell_type\": \"code\",\n",
    "   \"execution_count\": null,\n",
    "   \"metadata\": {},\n",
    "   \"outputs\": [],\n",
    "   \"source\": [\n",
    "    \"import pandas as pd\\n\",\n",
    "    \"\\n\",\n",
    "    \"# Load JSON files\\n\",\n",
    "    \"ride_df = pd.read_json('../data/raw/ride_reviews.json')\\n\",\n",
    "    \"feres_df = pd.read_json('../data/raw/feres_reviews.json')\\n\",\n",
    "    \"\\n\",\n",
    "    \"# Display basic info\\n\",\n",
    "    \"print('RIDE Reviews:')\\n\",\n",
    "    \"print(ride_df.info())\\n\",\n",
    "    \"print('\\\\nSample RIDE Reviews:')\\n\",\n",
    "    \"print(ride_df[['content', 'score', 'at']].head())\\n\",\n",
    "    \"\\n\",\n",
    "    \"print('\\\\nFeres Reviews:')\\n\",\n",
    "    \"print(feres_df.info())\\n\",\n",
    "    \"print('\\\\nSample Feres Reviews:')\\n\",\n",
    "    \"print(feres_df[['content', 'score', 'at']].head())\"\n",
    "   ]\n",
    "  }\n",
    " ],\n",
    " \"metadata\": {\n",
    "  \"kernelspec\": {\n",
    "   \"display_name\": \"Python 3\",\n",
    "   \"language\": \"python\",\n",
    "   \"name\": \"python3\"\n",
    "  },\n",
    "  \"language_info\": {\n",
    "   \"codemirror_mode\": {\n",
    "    \"name\": \"ipython\",\n",
    "    \"version\": 3\n",
    "   },\n",
    "   \"file_extension\": \".py\",\n",
    "   \"mimetype\": \"text/x-python\",\n",
    "   \"name\": \"python\",\n",
    "   \"nbconvert_exporter\": \"python\",\n",
    "   \"pygments_lexer\": \"ipython3\",\n",
    "   \"version\": \"3.10.0\"\n",
    "  }\n",
    " },\n",
    " \"nbformat\": 4,\n",
    " \"nbformat_minor\": 4\n",
    "}"
   ]
  }
 ],
 "metadata": {
  "kernelspec": {
   "display_name": "venv",
   "language": "python",
   "name": "python3"
  },
  "language_info": {
   "name": "python",
   "version": "3.13.2"
  }
 },
 "nbformat": 4,
 "nbformat_minor": 5
}
